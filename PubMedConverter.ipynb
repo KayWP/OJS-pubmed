{
 "cells": [
  {
   "cell_type": "code",
   "execution_count": 1,
   "id": "54049864",
   "metadata": {},
   "outputs": [
    {
     "name": "stderr",
     "output_type": "stream",
     "text": [
      "C:\\Users\\kayp\\AppData\\Local\\anaconda3\\lib\\site-packages\\paramiko\\transport.py:219: CryptographyDeprecationWarning: Blowfish has been deprecated\n",
      "  \"class\": algorithms.Blowfish,\n"
     ]
    }
   ],
   "source": [
    "from dotenv import dotenv_values\n",
    "\n",
    "import xml.etree.ElementTree as ET\n",
    "\n",
    "import requests\n",
    "import json\n",
    "import pandas as pd\n",
    "import sys\n",
    "import os\n",
    "\n",
    "security = dotenv_values(\".env\")\n",
    "api_key = security.get('api_key')\n",
    "journal_title = security.get('journal_title')\n",
    "journal_abbreviation = security.get('journal_abbreviation')\n",
    "pubmed_user = security.get('pubmed_user')\n",
    "pubmed_pass = security.get('pubmed_pass')"
   ]
  },
  {
   "cell_type": "code",
   "execution_count": null,
   "id": "c4d74c3f",
   "metadata": {},
   "outputs": [],
   "source": []
  },
  {
   "cell_type": "code",
   "execution_count": 2,
   "id": "b08d185a",
   "metadata": {},
   "outputs": [],
   "source": [
    "def add_article_title(xml_string, ATitle):\n",
    "    # Parse the XML string\n",
    "    root = ET.fromstring(xml_string)\n",
    "\n",
    "    # Iterate through each Article node\n",
    "    for article_node in root.findall('.//Article'):\n",
    "        # Find the VernacularTitle node\n",
    "        vernacular_title_node = article_node.find('VernacularTitle')\n",
    "\n",
    "        if vernacular_title_node is not None:\n",
    "            # Create a new ArticleTitle node\n",
    "            article_title_node = ET.Element('ArticleTitle')\n",
    "            article_title_node.text = ATitle\n",
    "\n",
    "            # Get the list of child nodes of the Article node\n",
    "            child_nodes = list(article_node)\n",
    "\n",
    "            # Find the position of the VernacularTitle node\n",
    "            vernacular_title_position = child_nodes.index(vernacular_title_node)\n",
    "\n",
    "            # Insert the new ArticleTitle node after the VernacularTitle node\n",
    "            article_node.insert(vernacular_title_position + 1, article_title_node)\n",
    "\n",
    "    # Convert the modified XML tree back to a string\n",
    "    return ET.tostring(root, encoding='unicode')"
   ]
  },
  {
   "cell_type": "code",
   "execution_count": 19,
   "id": "aa7efc40",
   "metadata": {},
   "outputs": [],
   "source": [
    "def add_article_id_list(xml_string):\n",
    "    # Parse the input XML string\n",
    "    root = ET.fromstring(xml_string)\n",
    "    \n",
    "    # Find the AuthorList node\n",
    "    author_list = root.find(\".//AuthorList\")\n",
    "    \n",
    "    # Find the DOI under ELocationID\n",
    "    doi_node = root.find(\".//ELocationID[@EIdType='doi']\")\n",
    "    doi_value = doi_node.text if doi_node is not None else None\n",
    "    \n",
    "    # Create the ArticleIdList element\n",
    "    article_id_list = ET.Element(\"ArticleIdList\")\n",
    "    \n",
    "    if doi_value:\n",
    "        # Create the ArticleId element\n",
    "        article_id = ET.Element(\"ArticleId\", IdType=\"doi\")\n",
    "        article_id.text = doi_value\n",
    "        \n",
    "        # Append the ArticleId element to the ArticleIdList\n",
    "        article_id_list.append(article_id)\n",
    "    \n",
    "    # We need to manually find the parent of the AuthorList node\n",
    "    # This is necessary because ElementTree doesn't support getparent()\n",
    "    def find_parent(root, child):\n",
    "        # Traverse through all elements\n",
    "        for parent in root.iter():\n",
    "            # Look for child within this parent\n",
    "            if child in list(parent):\n",
    "                return parent\n",
    "        return None\n",
    "    \n",
    "    parent = find_parent(root, author_list)\n",
    "    \n",
    "    # Insert the ArticleIdList node after the AuthorList node\n",
    "    if parent is not None and author_list is not None:\n",
    "        # Get the index of the AuthorList and insert the ArticleIdList after it\n",
    "        index = list(parent).index(author_list)\n",
    "        parent.insert(index + 1, article_id_list)\n",
    "    \n",
    "    # Convert the modified XML tree back into a string\n",
    "    return ET.tostring(root, encoding='unicode')"
   ]
  },
  {
   "cell_type": "code",
   "execution_count": 18,
   "id": "7e4f4dff",
   "metadata": {},
   "outputs": [],
   "source": [
    "def add_publication_type(xml_string):\n",
    "    # Parse the input XML string\n",
    "    root = ET.fromstring(xml_string)\n",
    "    \n",
    "    # Find the AuthorList node\n",
    "    author_list = root.find(\".//AuthorList\")\n",
    "    \n",
    "    # Find the ArticleIdList node\n",
    "    article_id_list = root.find(\".//ArticleIdList\")\n",
    "    \n",
    "    # Create a new PublicationType element\n",
    "    publication_type = ET.Element(\"PublicationType\")\n",
    "    publication_type.text = \"Journal Article\"\n",
    "    \n",
    "    # We need to manually find the parent of the ArticleIdList node\n",
    "    def find_parent(root, child):\n",
    "        # Traverse through all elements\n",
    "        for parent in root.iter():\n",
    "            # Look for child within this parent\n",
    "            if child in list(parent):\n",
    "                return parent\n",
    "        return None\n",
    "    \n",
    "    parent = find_parent(root, article_id_list)\n",
    "    \n",
    "    # Insert the PublicationType node after the AuthorList and before ArticleIdList\n",
    "    if parent is not None and author_list is not None and article_id_list is not None:\n",
    "        # Get the index of the ArticleIdList and insert the PublicationType before it\n",
    "        index = list(parent).index(article_id_list)\n",
    "        parent.insert(index, publication_type)\n",
    "    \n",
    "    # Convert the modified XML tree back into a string\n",
    "    return ET.tostring(root, encoding='unicode')"
   ]
  },
  {
   "cell_type": "code",
   "execution_count": 3,
   "id": "ec2a14c6",
   "metadata": {},
   "outputs": [],
   "source": [
    "def get_vernacular_title(xml_string):\n",
    "    # Parse the XML string\n",
    "    root = ET.fromstring(xml_string)\n",
    "\n",
    "    # Find the VernacularTitle node\n",
    "    vernacular_title_node = root.find('.//VernacularTitle')\n",
    "\n",
    "    # Check if the VernacularTitle node exists\n",
    "    if vernacular_title_node is not None:\n",
    "        # Return the text content of the VernacularTitle node\n",
    "        return vernacular_title_node.text\n",
    "    else:\n",
    "        return None  # Return None if VernacularTitle is not found"
   ]
  },
  {
   "cell_type": "code",
   "execution_count": 17,
   "id": "53be83b9",
   "metadata": {},
   "outputs": [],
   "source": [
    "def replace_language_tag(xml_string):\n",
    "    # Parse the XML string\n",
    "    root = ET.fromstring(xml_string)\n",
    "\n",
    "    # Find all 'Language' elements and replace 'dut' with 'NL'\n",
    "    for language in root.findall('.//Language'):\n",
    "        if language.text == 'dut':\n",
    "            language.text = 'NL'\n",
    "\n",
    "    # Convert the XML tree back to a string\n",
    "    return ET.tostring(root, encoding='unicode')"
   ]
  },
  {
   "cell_type": "code",
   "execution_count": null,
   "id": "2e981a6a",
   "metadata": {},
   "outputs": [],
   "source": [
    "def replace_journal_title(xml_string, journal_abbreviation):\n",
    "    # Parse the XML string\n",
    "    root = ET.fromstring(xml_string)\n",
    "\n",
    "    # Find the JournalTitle element and set its text to journal_abbreviation\n",
    "    journal_title = root.find('.//JournalTitle')\n",
    "    if journal_title is not None:\n",
    "        journal_title.text = journal_abbreviation\n",
    "\n",
    "    # Convert the XML tree back to a string\n",
    "    return ET.tostring(root, encoding='unicode')"
   ]
  },
  {
   "cell_type": "code",
   "execution_count": 4,
   "id": "ad6511c6",
   "metadata": {},
   "outputs": [],
   "source": [
    "def read_xml_file(file_path):\n",
    "    try:\n",
    "        with open(file_path, 'r', encoding='utf-8') as file:\n",
    "            xml_string = file.read()\n",
    "        return xml_string\n",
    "    except FileNotFoundError:\n",
    "        print(f\"Error: File '{file_path}' not found.\")\n",
    "        return None\n",
    "    except Exception as e:\n",
    "        print(f\"Error: {e}\")\n",
    "        return None"
   ]
  },
  {
   "cell_type": "code",
   "execution_count": 5,
   "id": "260a7f48",
   "metadata": {},
   "outputs": [],
   "source": [
    "def retrieve_english_title(journaltitle, vernacular_title, api_key):\n",
    "    response = requests.get(\"https://platform.openjournals.nl/\"+journaltitle+\"/api/v1/submissions/?apiToken=\"+api_key+\"&status=3&count=100&searchPhrase=\"+vernacular_title)\n",
    "    \n",
    "    response_data = response.json()\n",
    "\n",
    "    # Assuming 'response_data' is your JSON data\n",
    "    for item in response_data['items']:  # Iterate over each item in 'items'\n",
    "        for publication in item['publications']:  # Iterate over each publication in 'publications'\n",
    "            title = publication.get('title')  # Get 'fullTitle'\n",
    "            if vernacular_title == title['nl']:  # Test if 'fullTitle' exists\n",
    "                output = title['en']\n",
    "\n",
    "        \n",
    "    return output"
   ]
  },
  {
   "cell_type": "code",
   "execution_count": 6,
   "id": "a8b9dc98",
   "metadata": {},
   "outputs": [],
   "source": [
    "def rewrite_xml(xml_string, journaltitle, api_key):\n",
    "    # Get the vernacular title from the XML\n",
    "    vernacular_title = get_vernacular_title(xml_string)\n",
    "    \n",
    "    # Retrieve the English title based on the vernacular title and journal title\n",
    "    english_title = retrieve_english_title(journaltitle, vernacular_title, api_key)\n",
    "    print(english_title)\n",
    "    \n",
    "    # Add the English article title to the XML\n",
    "    modified_xml = add_article_title(xml_string, english_title)\n",
    "    \n",
    "    #replace the journal title with whatever Pubmed requires\n",
    "    modified_xml = replace_journal_title(modified_xml, journal_abbreviation)\n",
    "    \n",
    "    # Replace the language tag in the modified XML\n",
    "    modified_xml = replace_language_tag(modified_xml)\n",
    "    \n",
    "    #add article id\n",
    "    modified_xml = add_article_id_list(modified_xml)\n",
    "    \n",
    "    #add 'publication type'\n",
    "    modified_xml = add_publication_type(modified_xml)\n",
    "    \n",
    "    # Convert the modified XML back to a string\n",
    "    output = ET.tostring(ET.fromstring(modified_xml), encoding=\"unicode\")\n",
    "    \n",
    "    return output"
   ]
  },
  {
   "cell_type": "code",
   "execution_count": 7,
   "id": "0875da6f",
   "metadata": {},
   "outputs": [],
   "source": [
    "def process_all_xml_files(input_folder, output_folder, journaltitle, api_key):\n",
    "    # Create the output folder if it doesn't exist\n",
    "    if not os.path.exists(output_folder):\n",
    "        os.makedirs(output_folder)\n",
    "\n",
    "    # Process each XML file in the input folder\n",
    "    for filename in os.listdir(input_folder):\n",
    "        if filename.endswith(\".xml\"):\n",
    "            input_path = os.path.join(input_folder, filename)\n",
    "            output_path = os.path.join(output_folder, filename)\n",
    "\n",
    "            # Read the input XML file as a string\n",
    "            with open(input_path, 'r', encoding='utf-8') as file:\n",
    "                xml_string = file.read()\n",
    "\n",
    "            # Rewrite the XML string\n",
    "            modified_xml_string = rewrite_xml(xml_string, journaltitle, api_key)\n",
    "\n",
    "            # Write the modified XML string to the output file\n",
    "            with open(output_path, 'w', encoding='utf-8') as file:\n",
    "                file.write(modified_xml_string)"
   ]
  },
  {
   "cell_type": "code",
   "execution_count": 32,
   "id": "0c87c7c1",
   "metadata": {},
   "outputs": [],
   "source": [
    "def main():\n",
    "    journaltitle = journal_title\n",
    "    process_all_xml_files('input', 'output', journaltitle, api_key)"
   ]
  },
  {
   "cell_type": "code",
   "execution_count": 38,
   "id": "70344fb8",
   "metadata": {},
   "outputs": [
    {
     "name": "stdout",
     "output_type": "stream",
     "text": [
      "What is the journal title? tgg\n"
     ]
    }
   ],
   "source": [
    "if __name__ == \"__main__\":\n",
    "    input_folder = 'input'\n",
    "    output_folder = 'output'\n",
    "    main()"
   ]
  },
  {
   "cell_type": "code",
   "execution_count": null,
   "id": "beef59b9",
   "metadata": {},
   "outputs": [],
   "source": []
  }
 ],
 "metadata": {
  "kernelspec": {
   "display_name": "Python 3 (ipykernel)",
   "language": "python",
   "name": "python3"
  },
  "language_info": {
   "codemirror_mode": {
    "name": "ipython",
    "version": 3
   },
   "file_extension": ".py",
   "mimetype": "text/x-python",
   "name": "python",
   "nbconvert_exporter": "python",
   "pygments_lexer": "ipython3",
   "version": "3.10.9"
  }
 },
 "nbformat": 4,
 "nbformat_minor": 5
}

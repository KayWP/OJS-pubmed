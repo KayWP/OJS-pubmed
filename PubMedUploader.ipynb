{
 "cells": [
  {
   "cell_type": "code",
   "execution_count": 34,
   "id": "54049864",
   "metadata": {},
   "outputs": [],
   "source": [
    "from security import api_key\n",
    "\n",
    "import requests\n",
    "import json\n",
    "import pandas as pd\n",
    "import sys\n",
    "import os"
   ]
  },
  {
   "cell_type": "code",
   "execution_count": 5,
   "id": "b08d185a",
   "metadata": {},
   "outputs": [],
   "source": [
    "import xml.etree.ElementTree as ET\n",
    "\n",
    "def add_article_title(xml_string, ATitle):\n",
    "    # Parse the XML string\n",
    "    root = ET.fromstring(xml_string)\n",
    "\n",
    "    # Iterate through each Article node\n",
    "    for article_node in root.findall('.//Article'):\n",
    "        # Find the VernacularTitle node\n",
    "        vernacular_title_node = article_node.find('VernacularTitle')\n",
    "\n",
    "        # Create a new ArticleTitle node\n",
    "        article_title_node = ET.Element('ArticleTitle')\n",
    "        article_title_node.text = ATitle\n",
    "\n",
    "        # Get the list of child nodes of the Article node\n",
    "        child_nodes = list(article_node)\n",
    "\n",
    "        # Find the position of the VernacularTitle node\n",
    "        vernacular_title_position = child_nodes.index(vernacular_title_node)\n",
    "\n",
    "        # Insert the new ArticleTitle node after the VernacularTitle node\n",
    "        article_node.insert(vernacular_title_position + 1, article_title_node)\n",
    "\n",
    "    # Convert the modified XML back to a string\n",
    "    modified_xml = ET.tostring(root).decode(\"utf-8\")\n",
    "\n",
    "    return modified_xml"
   ]
  },
  {
   "cell_type": "code",
   "execution_count": 7,
   "id": "ec2a14c6",
   "metadata": {},
   "outputs": [],
   "source": [
    "def get_vernacular_title(xml_string):\n",
    "    # Parse the XML string\n",
    "    root = ET.fromstring(xml_string)\n",
    "\n",
    "    # Find the VernacularTitle node\n",
    "    vernacular_title_node = root.find('.//VernacularTitle')\n",
    "\n",
    "    # Check if the VernacularTitle node exists\n",
    "    if vernacular_title_node is not None:\n",
    "        # Return the text content of the VernacularTitle node\n",
    "        return vernacular_title_node.text\n",
    "    else:\n",
    "        return None  # Return None if VernacularTitle is not found"
   ]
  },
  {
   "cell_type": "code",
   "execution_count": 2,
   "id": "ad6511c6",
   "metadata": {},
   "outputs": [],
   "source": [
    "def read_xml_file(file_path):\n",
    "    try:\n",
    "        with open(file_path, 'r', encoding='utf-8') as file:\n",
    "            xml_string = file.read()\n",
    "        return xml_string\n",
    "    except FileNotFoundError:\n",
    "        print(f\"Error: File '{file_path}' not found.\")\n",
    "        return None\n",
    "    except Exception as e:\n",
    "        print(f\"Error: {e}\")\n",
    "        return None"
   ]
  },
  {
   "cell_type": "code",
   "execution_count": 23,
   "id": "260a7f48",
   "metadata": {},
   "outputs": [],
   "source": [
    "def retrieve_english_title(journaltitle, vernacular_title, api_key):\n",
    "    response = requests.get(\"https://platform.openjournals.nl/\"+journaltitle+\"/api/v1/submissions/?apiToken=\"+api_key+\"&status=3&searchPhrase=\"+vernacular_title)\n",
    "    return response.json()['items'][0]['publications'][0]['fullTitle']['en_US']"
   ]
  },
  {
   "cell_type": "code",
   "execution_count": 29,
   "id": "a8b9dc98",
   "metadata": {},
   "outputs": [],
   "source": [
    "def rewrite_xml(xml_string, journaltitle, api_key):\n",
    "    vernacular_title = get_vernacular_title(xml_string)\n",
    "    english_title = retrieve_english_title(journaltitle, vernacular_title, api_key)\n",
    "    return add_article_title(xml_string, english_title)\n",
    "    "
   ]
  },
  {
   "cell_type": "code",
   "execution_count": 37,
   "id": "0875da6f",
   "metadata": {},
   "outputs": [],
   "source": [
    "def process_all_xml_files(input_folder, output_folder, journaltitle):\n",
    "    # Create the output folder if it doesn't exist\n",
    "    if not os.path.exists(output_folder):\n",
    "        os.makedirs(output_folder)\n",
    "\n",
    "    # Process each XML file in the input folder\n",
    "    for filename in os.listdir(input_folder):\n",
    "        if filename.endswith(\".xml\"):\n",
    "            input_path = os.path.join(input_folder, filename)\n",
    "            output_path = os.path.join(output_folder, filename)\n",
    "\n",
    "            # Read the input XML file as a string\n",
    "            with open(input_path, 'r', encoding='utf-8') as file:\n",
    "                xml_string = file.read()\n",
    "\n",
    "            # Rewrite the XML string\n",
    "            modified_xml_string = rewrite_xml(xml_string, journaltitle, api_key)\n",
    "\n",
    "            # Write the modified XML string to the output file\n",
    "            with open(output_path, 'w', encoding='utf-8') as file:\n",
    "                file.write(modified_xml_string)"
   ]
  },
  {
   "cell_type": "code",
   "execution_count": null,
   "id": "260d2328",
   "metadata": {},
   "outputs": [],
   "source": []
  },
  {
   "cell_type": "code",
   "execution_count": 32,
   "id": "0c87c7c1",
   "metadata": {},
   "outputs": [],
   "source": [
    "def main():\n",
    "    journaltitle = input(\"What is the journal title? \")\n",
    "    process_all_xml_files('input', 'output', journaltitle)"
   ]
  },
  {
   "cell_type": "code",
   "execution_count": 38,
   "id": "70344fb8",
   "metadata": {},
   "outputs": [
    {
     "name": "stdout",
     "output_type": "stream",
     "text": [
      "What is the journal title? tgg\n"
     ]
    }
   ],
   "source": [
    "if __name__ == \"__main__\":\n",
    "    input_folder = 'input'\n",
    "    output_folder = 'output'\n",
    "    main()"
   ]
  },
  {
   "cell_type": "code",
   "execution_count": null,
   "id": "3fb2d771",
   "metadata": {},
   "outputs": [],
   "source": []
  }
 ],
 "metadata": {
  "kernelspec": {
   "display_name": "Python 3 (ipykernel)",
   "language": "python",
   "name": "python3"
  },
  "language_info": {
   "codemirror_mode": {
    "name": "ipython",
    "version": 3
   },
   "file_extension": ".py",
   "mimetype": "text/x-python",
   "name": "python",
   "nbconvert_exporter": "python",
   "pygments_lexer": "ipython3",
   "version": "3.10.9"
  }
 },
 "nbformat": 4,
 "nbformat_minor": 5
}
